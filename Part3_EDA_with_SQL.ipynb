{
 "cells": [
  {
   "cell_type": "markdown",
   "id": "7352ec55-e9a1-4fd1-9fad-f0e988cecf0d",
   "metadata": {},
   "source": [
    "# SpaceX Falcon 9 first stage Landing Prediction: A Data Science Capstone Project"
   ]
  },
  {
   "cell_type": "markdown",
   "id": "97caecc8-5b0e-48c5-b63d-29b889706905",
   "metadata": {},
   "source": [
    "## Explanatory Data Analysis with SQL"
   ]
  },
  {
   "cell_type": "code",
   "execution_count": 43,
   "id": "c0ad76ad-0e7e-460f-8fbc-68dedc3e185f",
   "metadata": {},
   "outputs": [
    {
     "name": "stdout",
     "output_type": "stream",
     "text": [
      "The sql extension is already loaded. To reload it, use:\n",
      "  %reload_ext sql\n"
     ]
    }
   ],
   "source": [
    "%load_ext sql"
   ]
  },
  {
   "cell_type": "code",
   "execution_count": 44,
   "id": "327e6020-337d-4497-86a1-6951b84297d1",
   "metadata": {},
   "outputs": [],
   "source": [
    "import sqlite3, csv\n",
    "import pandas as pd\n",
    "con=sqlite3.connect(\"my_data1.db\")\n",
    "cur=con.cursor()"
   ]
  },
  {
   "cell_type": "code",
   "execution_count": 45,
   "id": "2db8c2b0-4863-47fc-9ef5-3c8c2a7e6787",
   "metadata": {},
   "outputs": [],
   "source": [
    "%sql sqlite:///my_data1.db"
   ]
  },
  {
   "cell_type": "code",
   "execution_count": 46,
   "id": "901e0093-0627-4ebf-912e-1d089f2c04cc",
   "metadata": {},
   "outputs": [],
   "source": [
    "import pandas as pd\n",
    "df=pd.read_csv(\"https://github.com/JayshreeMishra/Dataset_Data_Science_Project/raw/main/Spacex.csv\")"
   ]
  },
  {
   "cell_type": "code",
   "execution_count": 47,
   "id": "127aa904-06eb-48ae-91b1-4618f7a95974",
   "metadata": {},
   "outputs": [
    {
     "data": {
      "text/plain": [
       "101"
      ]
     },
     "execution_count": 47,
     "metadata": {},
     "output_type": "execute_result"
    }
   ],
   "source": [
    "# Load data into SQLite, replacing existing table if it exists\n",
    "df.to_sql(\n",
    "    name=\"SPACEXTBL\",    # Table name in SQLite database\n",
    "    con=con,             # SQLite database connection object\n",
    "    if_exists='replace', # Replace the table if it exists\n",
    "    index=False,         # Do not include DataFrame index as a column\n",
    "    method=\"multi\"       # Use the \"multiple insert\" method for efficiency\n",
    ")"
   ]
  },
  {
   "cell_type": "code",
   "execution_count": 48,
   "id": "bdd96fad-4048-4a86-ba8f-114529d353d4",
   "metadata": {},
   "outputs": [
    {
     "name": "stdout",
     "output_type": "stream",
     "text": [
      " * sqlite:///my_data1.db\n",
      "(sqlite3.OperationalError) table SPACEXTBL already exists\n",
      "[SQL: create table SPACEXTBL as SELECT * from SPACEXTBL where data is not null]\n",
      "(Background on this error at: https://sqlalche.me/e/20/e3q8)\n"
     ]
    }
   ],
   "source": [
    "# remove blank rows from table\n",
    "%sql create table SPACEXTBL as SELECT * from SPACEXTBL where data is not null"
   ]
  },
  {
   "cell_type": "code",
   "execution_count": 49,
   "id": "d37aed0d-0d2d-471e-803c-9e00b3674be0",
   "metadata": {},
   "outputs": [
    {
     "name": "stdout",
     "output_type": "stream",
     "text": [
      " * sqlite:///my_data1.db\n",
      "Done.\n"
     ]
    },
    {
     "ename": "KeyError",
     "evalue": "'DEFAULT'",
     "output_type": "error",
     "traceback": [
      "\u001b[1;31m---------------------------------------------------------------------------\u001b[0m",
      "\u001b[1;31mKeyError\u001b[0m                                  Traceback (most recent call last)",
      "Cell \u001b[1;32mIn[49], line 2\u001b[0m\n\u001b[0;32m      1\u001b[0m \u001b[38;5;66;03m#unique launch sites in the space mission\u001b[39;00m\n\u001b[1;32m----> 2\u001b[0m \u001b[43mget_ipython\u001b[49m\u001b[43m(\u001b[49m\u001b[43m)\u001b[49m\u001b[38;5;241;43m.\u001b[39;49m\u001b[43mrun_line_magic\u001b[49m\u001b[43m(\u001b[49m\u001b[38;5;124;43m'\u001b[39;49m\u001b[38;5;124;43msql\u001b[39;49m\u001b[38;5;124;43m'\u001b[39;49m\u001b[43m,\u001b[49m\u001b[43m \u001b[49m\u001b[38;5;124;43m'\u001b[39;49m\u001b[38;5;124;43mselect distinct \u001b[39;49m\u001b[38;5;124;43m\"\u001b[39;49m\u001b[38;5;124;43mLaunch_Site\u001b[39;49m\u001b[38;5;124;43m\"\u001b[39;49m\u001b[38;5;124;43m from SPACEXTBL\u001b[39;49m\u001b[38;5;124;43m'\u001b[39;49m\u001b[43m)\u001b[49m\n",
      "File \u001b[1;32mE:\\Lib\\site-packages\\IPython\\core\\interactiveshell.py:2480\u001b[0m, in \u001b[0;36mInteractiveShell.run_line_magic\u001b[1;34m(self, magic_name, line, _stack_depth)\u001b[0m\n\u001b[0;32m   2478\u001b[0m     kwargs[\u001b[38;5;124m'\u001b[39m\u001b[38;5;124mlocal_ns\u001b[39m\u001b[38;5;124m'\u001b[39m] \u001b[38;5;241m=\u001b[39m \u001b[38;5;28mself\u001b[39m\u001b[38;5;241m.\u001b[39mget_local_scope(stack_depth)\n\u001b[0;32m   2479\u001b[0m \u001b[38;5;28;01mwith\u001b[39;00m \u001b[38;5;28mself\u001b[39m\u001b[38;5;241m.\u001b[39mbuiltin_trap:\n\u001b[1;32m-> 2480\u001b[0m     result \u001b[38;5;241m=\u001b[39m \u001b[43mfn\u001b[49m\u001b[43m(\u001b[49m\u001b[38;5;241;43m*\u001b[39;49m\u001b[43margs\u001b[49m\u001b[43m,\u001b[49m\u001b[43m \u001b[49m\u001b[38;5;241;43m*\u001b[39;49m\u001b[38;5;241;43m*\u001b[39;49m\u001b[43mkwargs\u001b[49m\u001b[43m)\u001b[49m\n\u001b[0;32m   2482\u001b[0m \u001b[38;5;66;03m# The code below prevents the output from being displayed\u001b[39;00m\n\u001b[0;32m   2483\u001b[0m \u001b[38;5;66;03m# when using magics with decorator @output_can_be_silenced\u001b[39;00m\n\u001b[0;32m   2484\u001b[0m \u001b[38;5;66;03m# when the last Python token in the expression is a ';'.\u001b[39;00m\n\u001b[0;32m   2485\u001b[0m \u001b[38;5;28;01mif\u001b[39;00m \u001b[38;5;28mgetattr\u001b[39m(fn, magic\u001b[38;5;241m.\u001b[39mMAGIC_OUTPUT_CAN_BE_SILENCED, \u001b[38;5;28;01mFalse\u001b[39;00m):\n",
      "File \u001b[1;32mE:\\Lib\\site-packages\\sql\\magic.py:219\u001b[0m, in \u001b[0;36mSqlMagic.execute\u001b[1;34m(self, line, cell, local_ns)\u001b[0m\n\u001b[0;32m    216\u001b[0m     \u001b[38;5;28;01mreturn\u001b[39;00m\n\u001b[0;32m    218\u001b[0m \u001b[38;5;28;01mtry\u001b[39;00m:\n\u001b[1;32m--> 219\u001b[0m     result \u001b[38;5;241m=\u001b[39m \u001b[43msql\u001b[49m\u001b[38;5;241;43m.\u001b[39;49m\u001b[43mrun\u001b[49m\u001b[38;5;241;43m.\u001b[39;49m\u001b[43mrun\u001b[49m\u001b[43m(\u001b[49m\u001b[43mconn\u001b[49m\u001b[43m,\u001b[49m\u001b[43m \u001b[49m\u001b[43mparsed\u001b[49m\u001b[43m[\u001b[49m\u001b[38;5;124;43m\"\u001b[39;49m\u001b[38;5;124;43msql\u001b[39;49m\u001b[38;5;124;43m\"\u001b[39;49m\u001b[43m]\u001b[49m\u001b[43m,\u001b[49m\u001b[43m \u001b[49m\u001b[38;5;28;43mself\u001b[39;49m\u001b[43m,\u001b[49m\u001b[43m \u001b[49m\u001b[43muser_ns\u001b[49m\u001b[43m)\u001b[49m\n\u001b[0;32m    221\u001b[0m     \u001b[38;5;28;01mif\u001b[39;00m (\n\u001b[0;32m    222\u001b[0m         result \u001b[38;5;129;01mis\u001b[39;00m \u001b[38;5;129;01mnot\u001b[39;00m \u001b[38;5;28;01mNone\u001b[39;00m\n\u001b[0;32m    223\u001b[0m         \u001b[38;5;129;01mand\u001b[39;00m \u001b[38;5;129;01mnot\u001b[39;00m \u001b[38;5;28misinstance\u001b[39m(result, \u001b[38;5;28mstr\u001b[39m)\n\u001b[1;32m   (...)\u001b[0m\n\u001b[0;32m    226\u001b[0m         \u001b[38;5;66;03m# Instead of returning values, set variables directly in the\u001b[39;00m\n\u001b[0;32m    227\u001b[0m         \u001b[38;5;66;03m# user's namespace. Variable names given by column names\u001b[39;00m\n\u001b[0;32m    229\u001b[0m         \u001b[38;5;28;01mif\u001b[39;00m \u001b[38;5;28mself\u001b[39m\u001b[38;5;241m.\u001b[39mautopandas:\n",
      "File \u001b[1;32mE:\\Lib\\site-packages\\sql\\run.py:374\u001b[0m, in \u001b[0;36mrun\u001b[1;34m(conn, sql, config, user_namespace)\u001b[0m\n\u001b[0;32m    372\u001b[0m     \u001b[38;5;28;01mif\u001b[39;00m result \u001b[38;5;129;01mand\u001b[39;00m config\u001b[38;5;241m.\u001b[39mfeedback:\n\u001b[0;32m    373\u001b[0m         \u001b[38;5;28mprint\u001b[39m(interpret_rowcount(result\u001b[38;5;241m.\u001b[39mrowcount))\n\u001b[1;32m--> 374\u001b[0m resultset \u001b[38;5;241m=\u001b[39m \u001b[43mResultSet\u001b[49m\u001b[43m(\u001b[49m\u001b[43mresult\u001b[49m\u001b[43m,\u001b[49m\u001b[43m \u001b[49m\u001b[43mconfig\u001b[49m\u001b[43m)\u001b[49m\n\u001b[0;32m    375\u001b[0m \u001b[38;5;28;01mif\u001b[39;00m config\u001b[38;5;241m.\u001b[39mautopandas:\n\u001b[0;32m    376\u001b[0m     \u001b[38;5;28;01mreturn\u001b[39;00m resultset\u001b[38;5;241m.\u001b[39mDataFrame()\n",
      "File \u001b[1;32mE:\\Lib\\site-packages\\sql\\run.py:116\u001b[0m, in \u001b[0;36mResultSet.__init__\u001b[1;34m(self, sqlaproxy, config)\u001b[0m\n\u001b[0;32m    114\u001b[0m         \u001b[38;5;28mlist\u001b[39m\u001b[38;5;241m.\u001b[39m\u001b[38;5;21m__init__\u001b[39m(\u001b[38;5;28mself\u001b[39m, sqlaproxy\u001b[38;5;241m.\u001b[39mfetchall())\n\u001b[0;32m    115\u001b[0m     \u001b[38;5;28mself\u001b[39m\u001b[38;5;241m.\u001b[39mfield_names \u001b[38;5;241m=\u001b[39m unduplicate_field_names(\u001b[38;5;28mself\u001b[39m\u001b[38;5;241m.\u001b[39mkeys)\n\u001b[1;32m--> 116\u001b[0m     \u001b[38;5;28mself\u001b[39m\u001b[38;5;241m.\u001b[39mpretty \u001b[38;5;241m=\u001b[39m PrettyTable(\u001b[38;5;28mself\u001b[39m\u001b[38;5;241m.\u001b[39mfield_names, style\u001b[38;5;241m=\u001b[39m\u001b[43mprettytable\u001b[49m\u001b[38;5;241;43m.\u001b[39;49m\u001b[38;5;18;43m__dict__\u001b[39;49m\u001b[43m[\u001b[49m\u001b[43mconfig\u001b[49m\u001b[38;5;241;43m.\u001b[39;49m\u001b[43mstyle\u001b[49m\u001b[38;5;241;43m.\u001b[39;49m\u001b[43mupper\u001b[49m\u001b[43m(\u001b[49m\u001b[43m)\u001b[49m\u001b[43m]\u001b[49m)\n\u001b[0;32m    117\u001b[0m \u001b[38;5;28;01melse\u001b[39;00m:\n\u001b[0;32m    118\u001b[0m     \u001b[38;5;28mlist\u001b[39m\u001b[38;5;241m.\u001b[39m\u001b[38;5;21m__init__\u001b[39m(\u001b[38;5;28mself\u001b[39m, [])\n",
      "\u001b[1;31mKeyError\u001b[0m: 'DEFAULT'"
     ]
    }
   ],
   "source": [
    "#unique launch sites in the space mission\n",
    "%sql select distinct \"Launch_Site\" from SPACEXTBL"
   ]
  },
  {
   "cell_type": "code",
   "execution_count": 26,
   "id": "c6c6db44",
   "metadata": {},
   "outputs": [
    {
     "name": "stdout",
     "output_type": "stream",
     "text": [
      "No data found or the query failed.\n"
     ]
    }
   ],
   "source": [
    "# Safeguard: Check if result is not None\n",
    "if result:\n",
    "    # Create a PrettyTable object and display the results\n",
    "    table = PrettyTable()\n",
    "    table.field_names = result.keys  # Set column names\n",
    "    for row in result:\n",
    "        table.add_row(row)\n",
    "    print(table)\n",
    "else:\n",
    "    print(\"No data found or the query failed.\")"
   ]
  },
  {
   "cell_type": "code",
   "execution_count": 27,
   "id": "5ee0697a-9581-436c-a947-99f485780ca4",
   "metadata": {},
   "outputs": [
    {
     "name": "stdout",
     "output_type": "stream",
     "text": [
      " * sqlite:///my_data1.db\n",
      "(sqlite3.OperationalError) no such table: SPACEXTBL\n",
      "[SQL: select * from SPACEXTBL where Launch_site LIKE 'CCA%' LIMIT 5;]\n",
      "(Background on this error at: https://sqlalche.me/e/20/e3q8)\n"
     ]
    }
   ],
   "source": [
    "#records where launch sites begin with the string CCA\n",
    "%sql select * from SPACEXTBL where Launch_site LIKE 'CCA%' LIMIT 5;"
   ]
  },
  {
   "cell_type": "code",
   "execution_count": 28,
   "id": "762eb1bc-a3b4-442f-8b98-0354223cb673",
   "metadata": {},
   "outputs": [
    {
     "name": "stdout",
     "output_type": "stream",
     "text": [
      " * sqlite:///my_data1.db\n",
      "(sqlite3.OperationalError) no such table: SPACEXTBL\n",
      "[SQL: select SUM(PAYLOAD_MASS__KG_) as 'Total Payload Mass(Kgs)' , Customer from SPACEXTBL Where Customer = 'NASA (CRS)']\n",
      "(Background on this error at: https://sqlalche.me/e/20/e3q8)\n"
     ]
    }
   ],
   "source": [
    "#total payload mass carried by boosters launched by NASA (CRS)\n",
    "%sql select SUM(PAYLOAD_MASS__KG_) as 'Total Payload Mass(Kgs)', Customer from SPACEXTBL Where Customer = 'NASA (CRS)'"
   ]
  },
  {
   "cell_type": "code",
   "execution_count": 29,
   "id": "e5dfff30-33b1-404a-bf81-8f8ba7a988d0",
   "metadata": {},
   "outputs": [
    {
     "name": "stdout",
     "output_type": "stream",
     "text": [
      " * sqlite:///my_data1.db\n",
      "(sqlite3.OperationalError) no such table: SPACEXTBL\n",
      "[SQL: select AVG(PAYLOAD_MASS__KG_) as 'Avg Payload Mass(Kg)' , Booster_Version from SPACEXTBL where Booster_Version = 'F9 v1.1']\n",
      "(Background on this error at: https://sqlalche.me/e/20/e3q8)\n"
     ]
    }
   ],
   "source": [
    "# average payload mass carried by booster version F9 v1.1\n",
    "%sql select AVG(PAYLOAD_MASS__KG_) as 'Avg Payload Mass(Kg)', Booster_Version from SPACEXTBL where Booster_Version = 'F9 v1.1'"
   ]
  },
  {
   "cell_type": "code",
   "execution_count": 30,
   "id": "d3668250-3996-466f-9bf2-6a5dc9a613de",
   "metadata": {},
   "outputs": [
    {
     "name": "stdout",
     "output_type": "stream",
     "text": [
      " * sqlite:///my_data1.db\n",
      "(sqlite3.OperationalError) no such table: SPACEXTBL\n",
      "[SQL: SELECT MIN(Date) as 'First_Successful_Ground_Landing' from SPACEXTBL WHERE Landing_Outcome= 'Success (ground pad)' ;]\n",
      "(Background on this error at: https://sqlalche.me/e/20/e3q8)\n"
     ]
    }
   ],
   "source": [
    "# date when the first succesful landing outcome in ground pad was acheived.\n",
    "%sql SELECT MIN(Date) as 'First_Successful_Ground_Landing' from SPACEXTBL WHERE Landing_Outcome= 'Success (ground pad)';"
   ]
  },
  {
   "cell_type": "code",
   "execution_count": 31,
   "id": "a9169645-7a75-49a0-bb4f-08ac891e4a63",
   "metadata": {},
   "outputs": [
    {
     "name": "stdout",
     "output_type": "stream",
     "text": [
      " * sqlite:///my_data1.db\n",
      "(sqlite3.OperationalError) no such table: SPACEXTBL\n",
      "[SQL: select DISTINCT Booster_Version, Landing_Outcome from SPACEXTBL where Landing_Outcome='Success (drone ship)' AND 4000<PAYLOAD_MASS__KG_<6000]\n",
      "(Background on this error at: https://sqlalche.me/e/20/e3q8)\n"
     ]
    }
   ],
   "source": [
    "# names of the boosters which have success in drone ship and have payload mass greater than 4000 but less than 6000\n",
    "%sql select DISTINCT Booster_Version, Landing_Outcome from SPACEXTBL where Landing_Outcome='Success (drone ship)' AND 4000<PAYLOAD_MASS__KG_<6000"
   ]
  },
  {
   "cell_type": "code",
   "execution_count": 32,
   "id": "5d599392-7a00-4c29-b69e-40b2bda22657",
   "metadata": {},
   "outputs": [
    {
     "name": "stdout",
     "output_type": "stream",
     "text": [
      " * sqlite:///my_data1.db\n",
      "(sqlite3.OperationalError) no such table: SPACEXTBL\n",
      "[SQL: select Mission_Outcome, COUNT(Mission_Outcome) as 'Total_Landings' from SPACEXTBL GROUP BY Mission_Outcome]\n",
      "(Background on this error at: https://sqlalche.me/e/20/e3q8)\n"
     ]
    }
   ],
   "source": [
    "# total number of successful and failure mission outcomes\n",
    "%sql select Mission_Outcome, COUNT(Mission_Outcome) as 'Total_Landings'  from SPACEXTBL GROUP BY Mission_Outcome"
   ]
  },
  {
   "cell_type": "code",
   "execution_count": 33,
   "id": "60b06fae-758a-42b7-b6eb-d67b344c755a",
   "metadata": {},
   "outputs": [
    {
     "name": "stdout",
     "output_type": "stream",
     "text": [
      " * sqlite:///my_data1.db\n",
      "(sqlite3.OperationalError) no such table: SPACEXTBL\n",
      "[SQL: select (Booster_Version), Payload, PAYLOAD_MASS__KG_ as 'Max_Payload_Mass' from SPACEXTBL where PAYLOAD_MASS__KG_=(select MAX(PAYLOAD_MASS__KG_) from SPACEXTBL)]\n",
      "(Background on this error at: https://sqlalche.me/e/20/e3q8)\n"
     ]
    }
   ],
   "source": [
    "#names of the booster_versions which have carried the maximum payload mass\n",
    "%sql select (Booster_Version), Payload, PAYLOAD_MASS__KG_ as 'Max_Payload_Mass' from SPACEXTBL where PAYLOAD_MASS__KG_=(select MAX(PAYLOAD_MASS__KG_) from SPACEXTBL)"
   ]
  },
  {
   "cell_type": "code",
   "execution_count": 34,
   "id": "4e5d1cda-7182-4cb3-a5ee-39d9c77ceb10",
   "metadata": {},
   "outputs": [
    {
     "name": "stdout",
     "output_type": "stream",
     "text": [
      " * sqlite:///my_data1.db\n",
      "(sqlite3.OperationalError) no such table: SPACEXTBL\n",
      "[SQL: select Launch_Site, Booster_Version, Landing_Outcome, substr(Date, 6,2) as 'Month' , substr(Date,0,5) as 'Year' from SPACEXTBL where substr(Date,0,5)='2015' and Landing_Outcome= 'Failure (drone ship)']\n",
      "(Background on this error at: https://sqlalche.me/e/20/e3q8)\n"
     ]
    }
   ],
   "source": [
    "%sql select Launch_Site, Booster_Version, Landing_Outcome, substr(Date, 6,2) as 'Month', substr(Date,0,5) as 'Year' from SPACEXTBL where substr(Date,0,5)='2015' and Landing_Outcome= 'Failure (drone ship)'"
   ]
  },
  {
   "cell_type": "code",
   "execution_count": 35,
   "id": "00a24a6a-a167-4b9d-ab86-ce3bdcc446a3",
   "metadata": {},
   "outputs": [
    {
     "name": "stdout",
     "output_type": "stream",
     "text": [
      " * sqlite:///my_data1.db\n",
      "(sqlite3.OperationalError) no such table: SPACEXTBL\n",
      "[SQL: select COUNT(*) as Count, Landing_Outcome from SPACEXTBL where Date BETWEEN '2010-06-04' AND '2017-03-20' GROUP BY Landing_Outcome ORDER BY Count DESC]\n",
      "(Background on this error at: https://sqlalche.me/e/20/e3q8)\n"
     ]
    }
   ],
   "source": [
    "# count of landing outcomes between the date 2010-06-04 and 2017-03-20, in descending order\n",
    "%sql select COUNT(*) as Count, Landing_Outcome from SPACEXTBL where Date BETWEEN '2010-06-04' AND '2017-03-20' GROUP BY Landing_Outcome ORDER BY Count DESC"
   ]
  }
 ],
 "metadata": {
  "kernelspec": {
   "display_name": "Python 3",
   "language": "python",
   "name": "python3"
  },
  "language_info": {
   "codemirror_mode": {
    "name": "ipython",
    "version": 3
   },
   "file_extension": ".py",
   "mimetype": "text/x-python",
   "name": "python",
   "nbconvert_exporter": "python",
   "pygments_lexer": "ipython3",
   "version": "3.12.4"
  }
 },
 "nbformat": 4,
 "nbformat_minor": 5
}
